{
 "cells": [
  {
   "cell_type": "markdown",
   "metadata": {},
   "source": [
    "<center>\n",
    "    <img src=\"https://cf-courses-data.s3.us.cloud-object-storage.appdomain.cloud/IBMDeveloperSkillsNetwork-DS0105EN-SkillsNetwork/labs/Module2/images/SN_web_lightmode.png\" width=\"300\" alt=\"cognitiveclass.ai logo\">\n",
    "</center>\n"
   ]
  },
  {
   "cell_type": "markdown",
   "metadata": {},
   "source": [
    "# Proyecto final en data science\n"
   ]
  },
  {
   "cell_type": "markdown",
   "metadata": {},
   "source": [
    "#### En este proyecto final se trataran diversos temas utilizando una Jupyter notebook por lo que se realizara mediante codigo y celdas markdown"
   ]
  },
  {
   "cell_type": "markdown",
   "metadata": {},
   "source": [
    "# Lenguajes de la Ciencia de Datos\n",
    "1. Python\n",
    "2. R\n",
    "3. SQL\n",
    "4. Julia\n",
    "5. Scala"
   ]
  },
  {
   "cell_type": "markdown",
   "metadata": {},
   "source": [
    "# Bibliotecas de Ciencia de Datos\n",
    "- Pandas\n",
    "- NumPy\n",
    "- Matplotlib\n",
    "- Scikit-learn\n",
    "- TensorFlow\n",
    "- Keras\n",
    "- PyTorch"
   ]
  },
  {
   "cell_type": "markdown",
   "metadata": {},
   "source": [
    "# Herramientas de Ciencia de Datos\n",
    "| Herramienta         | Descripción                                     |\n",
    "|---------------------|-------------------------------------------------|\n",
    "| Jupyter Notebook    | Entorno en el cual podemos desarrollar codigo . |\n",
    "| RStudio             | Entorno para el desarrollo en R.                |\n",
    "| Apache Spark        | Procesamiento de datos en gran escala.          |\n",
    "| Tableau             | Visualizar datos.                               |\n",
    "| Excel               | Hojas de calculo basicas para la tarea.         |\n"
   ]
  },
  {
   "cell_type": "markdown",
   "metadata": {},
   "source": [
    "# Ejemplos de Expresiones Aritméticas\n",
    "Estos son algunos ejemplos de expresiones aritméticas\n",
    "- Suma: `5 + 3 = 8`\n",
    "- Resta: `10 - 4 = 6`\n",
    "- Multiplicación: `7 * 6 = 42`\n",
    "- División: `8 / 2 = 4`"
   ]
  },
  {
   "cell_type": "code",
   "execution_count": 19,
   "metadata": {},
   "outputs": [
    {
     "data": {
      "text/plain": [
       "(8, 42)"
      ]
     },
     "execution_count": 19,
     "metadata": {},
     "output_type": "execute_result"
    }
   ],
   "source": [
    "# Sumar y multiplicar numeros\n",
    "sum = 5+3\n",
    "mult = 7 * 6\n",
    "sum, mult"
   ]
  },
  {
   "cell_type": "code",
   "execution_count": 20,
   "metadata": {},
   "outputs": [
    {
     "data": {
      "text/plain": [
       "2.5"
      ]
     },
     "execution_count": 20,
     "metadata": {},
     "output_type": "execute_result"
    }
   ],
   "source": [
    "# Minutos a horas\n",
    "min = 150 \n",
    "horas = min / 60\n",
    "horas"
   ]
  },
  {
   "cell_type": "code",
   "execution_count": 21,
   "metadata": {},
   "outputs": [
    {
     "name": "stdout",
     "output_type": "stream",
     "text": [
      "Trabajar mas con Jupyter notebook\n",
      "Practicar el uso de celdas markdown y de código\n",
      "Aplicar las operaciones aritmeticas\n",
      "Explorar herramientas de ciencia de datos\n"
     ]
    }
   ],
   "source": [
    "# Objetivos\n",
    "objetivos = [\n",
    "    \"Trabajar mas con Jupyter notebook\", \n",
    "    \"Practicar el uso de celdas markdown y de código\", \n",
    "    \"Aplicar las operaciones aritmeticas\", \n",
    "    \"Explorar herramientas de ciencia de datos\"]\n",
    "for obj in objetivos:\n",
    "    print(obj)"
   ]
  },
  {
   "cell_type": "markdown",
   "metadata": {},
   "source": [
    "# Autor\n",
    "# Hector Manuel Avena Robles"
   ]
  },
  {
   "cell_type": "code",
   "execution_count": null,
   "metadata": {},
   "outputs": [],
   "source": []
  }
 ],
 "metadata": {
  "kernelspec": {
   "display_name": "Python 3 (ipykernel)",
   "language": "python",
   "name": "python3"
  },
  "language_info": {
   "codemirror_mode": {
    "name": "ipython",
    "version": 3
   },
   "file_extension": ".py",
   "mimetype": "text/x-python",
   "name": "python",
   "nbconvert_exporter": "python",
   "pygments_lexer": "ipython3",
   "version": "3.11.9"
  }
 },
 "nbformat": 4,
 "nbformat_minor": 4
}
